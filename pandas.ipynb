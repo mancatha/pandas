{
 "cells": [
  {
   "cell_type": "code",
   "execution_count": 35,
   "id": "2bec9a86",
   "metadata": {},
   "outputs": [
    {
     "data": {
      "text/html": [
       "<div>\n",
       "<style scoped>\n",
       "    .dataframe tbody tr th:only-of-type {\n",
       "        vertical-align: middle;\n",
       "    }\n",
       "\n",
       "    .dataframe tbody tr th {\n",
       "        vertical-align: top;\n",
       "    }\n",
       "\n",
       "    .dataframe thead th {\n",
       "        text-align: right;\n",
       "    }\n",
       "</style>\n",
       "<table border=\"1\" class=\"dataframe\">\n",
       "  <thead>\n",
       "    <tr style=\"text-align: right;\">\n",
       "      <th></th>\n",
       "      <th>product_id</th>\n",
       "      <th>name</th>\n",
       "      <th>wholesale_price</th>\n",
       "      <th>retail_price</th>\n",
       "      <th>sales</th>\n",
       "    </tr>\n",
       "  </thead>\n",
       "  <tbody>\n",
       "    <tr>\n",
       "      <th>0</th>\n",
       "      <td>23</td>\n",
       "      <td>computer</td>\n",
       "      <td>500.0</td>\n",
       "      <td>1000</td>\n",
       "      <td>100</td>\n",
       "    </tr>\n",
       "    <tr>\n",
       "      <th>1</th>\n",
       "      <td>96</td>\n",
       "      <td>Python Workout</td>\n",
       "      <td>35.0</td>\n",
       "      <td>75</td>\n",
       "      <td>1000</td>\n",
       "    </tr>\n",
       "    <tr>\n",
       "      <th>2</th>\n",
       "      <td>97</td>\n",
       "      <td>Pandas Workout</td>\n",
       "      <td>35.0</td>\n",
       "      <td>75</td>\n",
       "      <td>500</td>\n",
       "    </tr>\n",
       "    <tr>\n",
       "      <th>3</th>\n",
       "      <td>15</td>\n",
       "      <td>banana</td>\n",
       "      <td>0.5</td>\n",
       "      <td>1</td>\n",
       "      <td>200</td>\n",
       "    </tr>\n",
       "    <tr>\n",
       "      <th>4</th>\n",
       "      <td>87</td>\n",
       "      <td>sandwich</td>\n",
       "      <td>3.0</td>\n",
       "      <td>5</td>\n",
       "      <td>300</td>\n",
       "    </tr>\n",
       "  </tbody>\n",
       "</table>\n",
       "</div>"
      ],
      "text/plain": [
       "   product_id            name  wholesale_price  retail_price  sales\n",
       "0          23        computer            500.0          1000    100\n",
       "1          96  Python Workout             35.0            75   1000\n",
       "2          97  Pandas Workout             35.0            75    500\n",
       "3          15          banana              0.5             1    200\n",
       "4          87        sandwich              3.0             5    300"
      ]
     },
     "execution_count": 35,
     "metadata": {},
     "output_type": "execute_result"
    }
   ],
   "source": [
    "my_lists = {\n",
    "    'product_id': [23, 96, 97, 15, 87],\n",
    "    'name': ['computer', 'Python Workout', 'Pandas Workout', 'banana', 'sandwich'],\n",
    "    'wholesale_price': [500,35, 35, 0.5, 3],\n",
    "    'retail_price':[1000,75,75,1,5],\n",
    "    'sales':[100, 1000, 500, 200,300]\n",
    "}\n",
    "import pandas as pd \n",
    "\n",
    "df = pd.DataFrame(my_lists)\n",
    "df"
   ]
  },
  {
   "cell_type": "code",
   "execution_count": 36,
   "id": "19fa56ab",
   "metadata": {},
   "outputs": [
    {
     "data": {
      "text/html": [
       "<div>\n",
       "<style scoped>\n",
       "    .dataframe tbody tr th:only-of-type {\n",
       "        vertical-align: middle;\n",
       "    }\n",
       "\n",
       "    .dataframe tbody tr th {\n",
       "        vertical-align: top;\n",
       "    }\n",
       "\n",
       "    .dataframe thead th {\n",
       "        text-align: right;\n",
       "    }\n",
       "</style>\n",
       "<table border=\"1\" class=\"dataframe\">\n",
       "  <thead>\n",
       "    <tr style=\"text-align: right;\">\n",
       "      <th></th>\n",
       "      <th>product_id</th>\n",
       "      <th>name</th>\n",
       "      <th>wholesale_price</th>\n",
       "      <th>retail_price</th>\n",
       "      <th>sales</th>\n",
       "      <th>net_rev_each</th>\n",
       "      <th>total_prf_each</th>\n",
       "    </tr>\n",
       "  </thead>\n",
       "  <tbody>\n",
       "    <tr>\n",
       "      <th>0</th>\n",
       "      <td>23</td>\n",
       "      <td>computer</td>\n",
       "      <td>500.0</td>\n",
       "      <td>1000</td>\n",
       "      <td>100</td>\n",
       "      <td>50000.0</td>\n",
       "      <td>0.0</td>\n",
       "    </tr>\n",
       "    <tr>\n",
       "      <th>1</th>\n",
       "      <td>96</td>\n",
       "      <td>Python Workout</td>\n",
       "      <td>35.0</td>\n",
       "      <td>75</td>\n",
       "      <td>1000</td>\n",
       "      <td>40000.0</td>\n",
       "      <td>5000.0</td>\n",
       "    </tr>\n",
       "    <tr>\n",
       "      <th>2</th>\n",
       "      <td>97</td>\n",
       "      <td>Pandas Workout</td>\n",
       "      <td>35.0</td>\n",
       "      <td>75</td>\n",
       "      <td>500</td>\n",
       "      <td>20000.0</td>\n",
       "      <td>2500.0</td>\n",
       "    </tr>\n",
       "    <tr>\n",
       "      <th>3</th>\n",
       "      <td>15</td>\n",
       "      <td>banana</td>\n",
       "      <td>0.5</td>\n",
       "      <td>1</td>\n",
       "      <td>200</td>\n",
       "      <td>100.0</td>\n",
       "      <td>0.0</td>\n",
       "    </tr>\n",
       "    <tr>\n",
       "      <th>4</th>\n",
       "      <td>87</td>\n",
       "      <td>sandwich</td>\n",
       "      <td>3.0</td>\n",
       "      <td>5</td>\n",
       "      <td>300</td>\n",
       "      <td>600.0</td>\n",
       "      <td>-300.0</td>\n",
       "    </tr>\n",
       "  </tbody>\n",
       "</table>\n",
       "</div>"
      ],
      "text/plain": [
       "   product_id            name  wholesale_price  retail_price  sales  \\\n",
       "0          23        computer            500.0          1000    100   \n",
       "1          96  Python Workout             35.0            75   1000   \n",
       "2          97  Pandas Workout             35.0            75    500   \n",
       "3          15          banana              0.5             1    200   \n",
       "4          87        sandwich              3.0             5    300   \n",
       "\n",
       "   net_rev_each  total_prf_each  \n",
       "0       50000.0             0.0  \n",
       "1       40000.0          5000.0  \n",
       "2       20000.0          2500.0  \n",
       "3         100.0             0.0  \n",
       "4         600.0          -300.0  "
      ]
     },
     "execution_count": 36,
     "metadata": {},
     "output_type": "execute_result"
    }
   ],
   "source": [
    "#Step 2:  Calculate the Total Profit for each product using the formula\n",
    "#formula => net_revenue_per_product = (retail_price - wholesale price) * sales\n",
    "\n",
    "df['net_rev_each'] = (df['retail_price'] - df['wholesale_price']) * df['sales']\n",
    "\n",
    "#Calculate total profit per product => Net_revenue_per_product - (Wholesale_price * Sales)\n",
    "\n",
    "df['total_prf_each'] = df['net_rev_each'] - (df['wholesale_price'] * df['sales'])\n",
    "\n",
    "df"
   ]
  },
  {
   "cell_type": "code",
   "execution_count": 37,
   "id": "d2d2a72b",
   "metadata": {},
   "outputs": [
    {
     "name": "stdout",
     "output_type": "stream",
     "text": [
      "Total net revenue received from all sales is $: 110700.00\n"
     ]
    }
   ],
   "source": [
    "#total net revenue received from all of the sales\n",
    "\n",
    "total_net_revenue = df['net_rev_each'].sum()\n",
    "\n",
    "print(f'Total net revenue received from all sales is $:', '%.2f' % total_net_revenue)"
   ]
  },
  {
   "cell_type": "code",
   "execution_count": 38,
   "id": "3e5e1c07",
   "metadata": {},
   "outputs": [
    {
     "name": "stdout",
     "output_type": "stream",
     "text": [
      "The product with retail price more than twice the wholesale price is:\n",
      "1    Python Workout\n",
      "2    Pandas Workout\n",
      "Name: name, dtype: object\n"
     ]
    }
   ],
   "source": [
    "#What product is product retail price more than twice the wholesale price?\n",
    "#boolean mask using the > operator \n",
    "more_than_2 = df['retail_price'] > (2 * df['wholesale_price'])\n",
    "\n",
    "#more_than_2_name = df.loc[more_than_2, 'name'].iloc[0:4] #fix this\n",
    "more_than_2_name = df['name'][more_than_2]\n",
    "\n",
    "print(f\"The product with retail price more than twice the wholesale price is:\\n{more_than_2_name}\")"
   ]
  },
  {
   "cell_type": "code",
   "execution_count": 39,
   "id": "87252e63",
   "metadata": {},
   "outputs": [
    {
     "name": "stdout",
     "output_type": "stream",
     "text": [
      "Revenue by category: category\n",
      "books        60000.0\n",
      "computers    50000.0\n",
      "food           700.0\n",
      "Name: net_rev_each, dtype: float64\n"
     ]
    }
   ],
   "source": [
    "#How much did the store make from food vs. computers vs. books?\n",
    "#create dictionary to store categories\n",
    "name_categories= {\n",
    "    'computer': 'computers',\n",
    "    'Python Workout': 'books',\n",
    "    'Pandas Workout': 'books',\n",
    "    'banana': 'food',\n",
    "    'sandwich': 'food'\n",
    "}\n",
    "\n",
    "#add a category column to the DataFrame with the dictionary\n",
    "#map product names to categories\n",
    "df['category'] = df['name'].map(name_categories)\n",
    "\n",
    "#group the DataFrame by category using the groupby method. Calculate the sum of the net_rev_each column\n",
    "category_revenue = df.groupby('category')['net_rev_each'].sum()\n",
    "\n",
    "print('Revenue by category:',category_revenue)"
   ]
  },
  {
   "cell_type": "code",
   "execution_count": 41,
   "id": "5409fac9",
   "metadata": {},
   "outputs": [
    {
     "name": "stdout",
     "output_type": "stream",
     "text": [
      "Total net revenue received from all sales is $: 141750.00\n"
     ]
    }
   ],
   "source": [
    "# Calculate new net revenue with 30% discount on wholesale price\n",
    "df_copy = df.copy()\n",
    "df['wholesale_price'] = 0.7 * df_copy['wholesale_price']\n",
    "\n",
    "#copy paste from step 2\n",
    "df_copy['net_rev_each'] = (df_copy['retail_price'] - df_copy['wholesale_price']) * df_copy['sales']\n",
    "\n",
    "df_copy['total_prf_each'] = df_copy['net_rev_each'] - (df_copy['sales'] * df_copy['wholesale_price'])\n",
    "\n",
    "total_net_revenue = df_copy['net_rev_each'].sum()\n",
    "\n",
    "print(f'Total net revenue received from all sales is $:', '%.2f' % total_net_revenue)"
   ]
  },
  {
   "cell_type": "code",
   "execution_count": 42,
   "id": "d4f6b851",
   "metadata": {},
   "outputs": [
    {
     "data": {
      "text/html": [
       "<div>\n",
       "<style scoped>\n",
       "    .dataframe tbody tr th:only-of-type {\n",
       "        vertical-align: middle;\n",
       "    }\n",
       "\n",
       "    .dataframe tbody tr th {\n",
       "        vertical-align: top;\n",
       "    }\n",
       "\n",
       "    .dataframe thead th {\n",
       "        text-align: right;\n",
       "    }\n",
       "</style>\n",
       "<table border=\"1\" class=\"dataframe\">\n",
       "  <thead>\n",
       "    <tr style=\"text-align: right;\">\n",
       "      <th></th>\n",
       "      <th>net_rev_15%</th>\n",
       "      <th>net_rev_20%</th>\n",
       "      <th>net_rev_25%</th>\n",
       "    </tr>\n",
       "  </thead>\n",
       "  <tbody>\n",
       "    <tr>\n",
       "      <th>0</th>\n",
       "      <td>42500.0</td>\n",
       "      <td>40000.0</td>\n",
       "      <td>37500.0</td>\n",
       "    </tr>\n",
       "    <tr>\n",
       "      <th>1</th>\n",
       "      <td>34000.0</td>\n",
       "      <td>32000.0</td>\n",
       "      <td>30000.0</td>\n",
       "    </tr>\n",
       "    <tr>\n",
       "      <th>2</th>\n",
       "      <td>17000.0</td>\n",
       "      <td>16000.0</td>\n",
       "      <td>15000.0</td>\n",
       "    </tr>\n",
       "    <tr>\n",
       "      <th>3</th>\n",
       "      <td>85.0</td>\n",
       "      <td>80.0</td>\n",
       "      <td>75.0</td>\n",
       "    </tr>\n",
       "    <tr>\n",
       "      <th>4</th>\n",
       "      <td>510.0</td>\n",
       "      <td>480.0</td>\n",
       "      <td>450.0</td>\n",
       "    </tr>\n",
       "  </tbody>\n",
       "</table>\n",
       "</div>"
      ],
      "text/plain": [
       "   net_rev_15%  net_rev_20%  net_rev_25%\n",
       "0      42500.0      40000.0      37500.0\n",
       "1      34000.0      32000.0      30000.0\n",
       "2      17000.0      16000.0      15000.0\n",
       "3         85.0         80.0         75.0\n",
       "4        510.0        480.0        450.0"
      ]
     },
     "execution_count": 42,
     "metadata": {},
     "output_type": "execute_result"
    }
   ],
   "source": [
    "#Add new columns of 15%,20% and 25% of the net income \n",
    "df['net_rev_15%'] = df['net_rev_each']*0.85\n",
    "df['net_rev_20%'] = df['net_rev_each']*0.8\n",
    "df['net_rev_25%'] = df['net_rev_each']*0.75\n",
    "df\n",
    "df[['net_rev_15%' ,'net_rev_20%' , 'net_rev_25%']]"
   ]
  },
  {
   "cell_type": "code",
   "execution_count": null,
   "id": "56482d31",
   "metadata": {},
   "outputs": [],
   "source": []
  }
 ],
 "metadata": {
  "kernelspec": {
   "display_name": "Python 3 (ipykernel)",
   "language": "python",
   "name": "python3"
  },
  "language_info": {
   "codemirror_mode": {
    "name": "ipython",
    "version": 3
   },
   "file_extension": ".py",
   "mimetype": "text/x-python",
   "name": "python",
   "nbconvert_exporter": "python",
   "pygments_lexer": "ipython3",
   "version": "3.10.9"
  }
 },
 "nbformat": 4,
 "nbformat_minor": 5
}
